{
 "cells": [
  {
   "cell_type": "markdown",
   "metadata": {},
   "source": [
    "# Objective : Multivariate Regression Analysis"
   ]
  },
  {
   "cell_type": "markdown",
   "metadata": {},
   "source": [
    "### To perform multivariate regression on the 50 start ups dataset using the step by step method.\n"
   ]
  },
  {
   "cell_type": "code",
   "execution_count": 1,
   "metadata": {},
   "outputs": [],
   "source": [
    "#Importing Libreary\n",
    "import numpy as np\n",
    "import pandas as pd\n",
    "import matplotlib.pyplot as plt\n",
    "import seaborn as sns\n",
    "%matplotlib inline"
   ]
  },
  {
   "cell_type": "markdown",
   "metadata": {},
   "source": [
    "# Step 1 : Load the Data"
   ]
  },
  {
   "cell_type": "code",
   "execution_count": 2,
   "metadata": {},
   "outputs": [],
   "source": [
    "#Load the data\n",
    "data = pd.read_csv('50_Startups.csv')"
   ]
  },
  {
   "cell_type": "markdown",
   "metadata": {},
   "source": [
    "# Perform basic EDA (Exploratory Data Analysis)"
   ]
  },
  {
   "cell_type": "code",
   "execution_count": 3,
   "metadata": {},
   "outputs": [
    {
     "name": "stdout",
     "output_type": "stream",
     "text": [
      "<class 'pandas.core.frame.DataFrame'>\n",
      "RangeIndex: 50 entries, 0 to 49\n",
      "Data columns (total 5 columns):\n",
      " #   Column           Non-Null Count  Dtype  \n",
      "---  ------           --------------  -----  \n",
      " 0   R&D Spend        50 non-null     float64\n",
      " 1   Administration   50 non-null     float64\n",
      " 2   Marketing Spend  50 non-null     float64\n",
      " 3   State            50 non-null     object \n",
      " 4   Profit           50 non-null     float64\n",
      "dtypes: float64(4), object(1)\n",
      "memory usage: 2.1+ KB\n"
     ]
    }
   ],
   "source": [
    "# Their is no missing values\n",
    "data.info()"
   ]
  },
  {
   "cell_type": "code",
   "execution_count": 4,
   "metadata": {},
   "outputs": [
    {
     "data": {
      "text/html": [
       "<div>\n",
       "<style scoped>\n",
       "    .dataframe tbody tr th:only-of-type {\n",
       "        vertical-align: middle;\n",
       "    }\n",
       "\n",
       "    .dataframe tbody tr th {\n",
       "        vertical-align: top;\n",
       "    }\n",
       "\n",
       "    .dataframe thead th {\n",
       "        text-align: right;\n",
       "    }\n",
       "</style>\n",
       "<table border=\"1\" class=\"dataframe\">\n",
       "  <thead>\n",
       "    <tr style=\"text-align: right;\">\n",
       "      <th></th>\n",
       "      <th>R&amp;D Spend</th>\n",
       "      <th>Administration</th>\n",
       "      <th>Marketing Spend</th>\n",
       "      <th>State</th>\n",
       "      <th>Profit</th>\n",
       "    </tr>\n",
       "  </thead>\n",
       "  <tbody>\n",
       "    <tr>\n",
       "      <th>0</th>\n",
       "      <td>165349.20</td>\n",
       "      <td>136897.80</td>\n",
       "      <td>471784.10</td>\n",
       "      <td>New York</td>\n",
       "      <td>192261.83</td>\n",
       "    </tr>\n",
       "    <tr>\n",
       "      <th>1</th>\n",
       "      <td>162597.70</td>\n",
       "      <td>151377.59</td>\n",
       "      <td>443898.53</td>\n",
       "      <td>California</td>\n",
       "      <td>191792.06</td>\n",
       "    </tr>\n",
       "    <tr>\n",
       "      <th>2</th>\n",
       "      <td>153441.51</td>\n",
       "      <td>101145.55</td>\n",
       "      <td>407934.54</td>\n",
       "      <td>Florida</td>\n",
       "      <td>191050.39</td>\n",
       "    </tr>\n",
       "    <tr>\n",
       "      <th>3</th>\n",
       "      <td>144372.41</td>\n",
       "      <td>118671.85</td>\n",
       "      <td>383199.62</td>\n",
       "      <td>New York</td>\n",
       "      <td>182901.99</td>\n",
       "    </tr>\n",
       "    <tr>\n",
       "      <th>4</th>\n",
       "      <td>142107.34</td>\n",
       "      <td>91391.77</td>\n",
       "      <td>366168.42</td>\n",
       "      <td>Florida</td>\n",
       "      <td>166187.94</td>\n",
       "    </tr>\n",
       "  </tbody>\n",
       "</table>\n",
       "</div>"
      ],
      "text/plain": [
       "   R&D Spend  Administration  Marketing Spend       State     Profit\n",
       "0  165349.20       136897.80        471784.10    New York  192261.83\n",
       "1  162597.70       151377.59        443898.53  California  191792.06\n",
       "2  153441.51       101145.55        407934.54     Florida  191050.39\n",
       "3  144372.41       118671.85        383199.62    New York  182901.99\n",
       "4  142107.34        91391.77        366168.42     Florida  166187.94"
      ]
     },
     "execution_count": 4,
     "metadata": {},
     "output_type": "execute_result"
    }
   ],
   "source": [
    "# Check the 1st 5 couloumn\n",
    "data.head()"
   ]
  },
  {
   "cell_type": "markdown",
   "metadata": {},
   "source": [
    "# Identify inter feature relationship using visualization"
   ]
  },
  {
   "cell_type": "code",
   "execution_count": 5,
   "metadata": {},
   "outputs": [
    {
     "data": {
      "text/plain": [
       "<seaborn.axisgrid.PairGrid at 0x2520132ff88>"
      ]
     },
     "execution_count": 5,
     "metadata": {},
     "output_type": "execute_result"
    },
    {
     "data": {
      "image/png": "[encoded data removed]",
      "text/plain": [
       "<Figure size 1235.88x1152 with 20 Axes>"
      ]
     },
     "metadata": {
      "needs_background": "light"
     },
     "output_type": "display_data"
    }
   ],
   "source": [
    "sns.pairplot(data,  diag_kind='kde',height=4,hue='State')"
   ]
  },
  {
   "cell_type": "code",
   "execution_count": 6,
   "metadata": {},
   "outputs": [],
   "source": [
    "#Remove space from the coulmn\n",
    "data.columns =data.columns.str.replace(' ','_')\n",
    "data.columns =data.columns.str.replace('&','_and_')"
   ]
  },
  {
   "cell_type": "markdown",
   "metadata": {},
   "source": [
    "## Step 2 : Obtain the Info of the dataframe data:"
   ]
  },
  {
   "cell_type": "code",
   "execution_count": 7,
   "metadata": {},
   "outputs": [
    {
     "name": "stdout",
     "output_type": "stream",
     "text": [
      "<class 'pandas.core.frame.DataFrame'>\n",
      "RangeIndex: 50 entries, 0 to 49\n",
      "Data columns (total 5 columns):\n",
      " #   Column           Non-Null Count  Dtype  \n",
      "---  ------           --------------  -----  \n",
      " 0   R_and_D_Spend    50 non-null     float64\n",
      " 1   Administration   50 non-null     float64\n",
      " 2   Marketing_Spend  50 non-null     float64\n",
      " 3   State            50 non-null     object \n",
      " 4   Profit           50 non-null     float64\n",
      "dtypes: float64(4), object(1)\n",
      "memory usage: 2.1+ KB\n"
     ]
    }
   ],
   "source": [
    "# Checking missing value\n",
    "# As their is no missing value\n",
    "data.info()"
   ]
  },
  {
   "cell_type": "code",
   "execution_count": 8,
   "metadata": {},
   "outputs": [
    {
     "data": {
      "text/html": [
       "<div>\n",
       "<style scoped>\n",
       "    .dataframe tbody tr th:only-of-type {\n",
       "        vertical-align: middle;\n",
       "    }\n",
       "\n",
       "    .dataframe tbody tr th {\n",
       "        vertical-align: top;\n",
       "    }\n",
       "\n",
       "    .dataframe thead th {\n",
       "        text-align: right;\n",
       "    }\n",
       "</style>\n",
       "<table border=\"1\" class=\"dataframe\">\n",
       "  <thead>\n",
       "    <tr style=\"text-align: right;\">\n",
       "      <th></th>\n",
       "      <th>R_and_D_Spend</th>\n",
       "      <th>Administration</th>\n",
       "      <th>Marketing_Spend</th>\n",
       "      <th>Profit</th>\n",
       "    </tr>\n",
       "  </thead>\n",
       "  <tbody>\n",
       "    <tr>\n",
       "      <th>R_and_D_Spend</th>\n",
       "      <td>1.000000</td>\n",
       "      <td>0.241955</td>\n",
       "      <td>0.724248</td>\n",
       "      <td>0.972900</td>\n",
       "    </tr>\n",
       "    <tr>\n",
       "      <th>Administration</th>\n",
       "      <td>0.241955</td>\n",
       "      <td>1.000000</td>\n",
       "      <td>-0.032154</td>\n",
       "      <td>0.200717</td>\n",
       "    </tr>\n",
       "    <tr>\n",
       "      <th>Marketing_Spend</th>\n",
       "      <td>0.724248</td>\n",
       "      <td>-0.032154</td>\n",
       "      <td>1.000000</td>\n",
       "      <td>0.747766</td>\n",
       "    </tr>\n",
       "    <tr>\n",
       "      <th>Profit</th>\n",
       "      <td>0.972900</td>\n",
       "      <td>0.200717</td>\n",
       "      <td>0.747766</td>\n",
       "      <td>1.000000</td>\n",
       "    </tr>\n",
       "  </tbody>\n",
       "</table>\n",
       "</div>"
      ],
      "text/plain": [
       "                 R_and_D_Spend  Administration  Marketing_Spend    Profit\n",
       "R_and_D_Spend         1.000000        0.241955         0.724248  0.972900\n",
       "Administration        0.241955        1.000000        -0.032154  0.200717\n",
       "Marketing_Spend       0.724248       -0.032154         1.000000  0.747766\n",
       "Profit                0.972900        0.200717         0.747766  1.000000"
      ]
     },
     "execution_count": 8,
     "metadata": {},
     "output_type": "execute_result"
    }
   ],
   "source": [
    "# Checking Corellation\n",
    "corelation = data.corr()\n",
    "corelation"
   ]
  },
  {
   "cell_type": "code",
   "execution_count": 9,
   "metadata": {},
   "outputs": [],
   "source": [
    "## Inferences from corelations:\n",
    "\n",
    " # The relation between profit and R&D spend it very high.\n",
    " # The relation between Makreting spend and R&D spend is also high\n",
    " # The relation between Marketing spend and profit also very high\n"
   ]
  },
  {
   "cell_type": "markdown",
   "metadata": {},
   "source": [
    "## Step 3: Outlier Detection and handling "
   ]
  },
  {
   "cell_type": "code",
   "execution_count": 10,
   "metadata": {},
   "outputs": [
    {
     "data": {
      "image/png": "[encoded data removed]",
      "text/plain": [
       "<Figure size 1008x432 with 3 Axes>"
      ]
     },
     "metadata": {
      "needs_background": "light"
     },
     "output_type": "display_data"
    }
   ],
   "source": [
    "# Droping the Categorical data\n",
    "#Outlier Detection and handling\n",
    "\n",
    "data1 = data.drop(columns=['Profit','State'],axis=1)\n",
    "data1.plot(kind='box', figsize= (14,6),subplots=True, layout=(1,3))\n",
    "plt.show()\n",
    "\n",
    "#So as we can see their is no outlier"
   ]
  },
  {
   "cell_type": "code",
   "execution_count": 11,
   "metadata": {},
   "outputs": [],
   "source": [
    "# As we found their is no outlier"
   ]
  },
  {
   "cell_type": "markdown",
   "metadata": {},
   "source": [
    "### Step 4 : Handle Inappropriate Data"
   ]
  },
  {
   "cell_type": "code",
   "execution_count": 12,
   "metadata": {},
   "outputs": [],
   "source": [
    "# As their is no inappropriate data "
   ]
  },
  {
   "cell_type": "markdown",
   "metadata": {},
   "source": [
    "## Step 5 : Check and Handle missing data"
   ]
  },
  {
   "cell_type": "code",
   "execution_count": 13,
   "metadata": {},
   "outputs": [
    {
     "data": {
      "text/plain": [
       "R_and_D_Spend      0\n",
       "Administration     0\n",
       "Marketing_Spend    0\n",
       "dtype: int64"
      ]
     },
     "execution_count": 13,
     "metadata": {},
     "output_type": "execute_result"
    }
   ],
   "source": [
    "# Check and handel missing data\n",
    "# As their is no missing data \n",
    "data1.isna().sum()"
   ]
  },
  {
   "cell_type": "markdown",
   "metadata": {},
   "source": [
    "## Step 6 : Check and handle Categorical Data"
   ]
  },
  {
   "cell_type": "code",
   "execution_count": 14,
   "metadata": {},
   "outputs": [
    {
     "data": {
      "text/plain": [
       "3"
      ]
     },
     "execution_count": 14,
     "metadata": {},
     "output_type": "execute_result"
    }
   ],
   "source": [
    "# Feature State is Categorical\n",
    "data.State.nunique()\n",
    "# Inference : 3 Unique values"
   ]
  },
  {
   "cell_type": "code",
   "execution_count": 15,
   "metadata": {},
   "outputs": [
    {
     "data": {
      "text/html": [
       "<div>\n",
       "<style scoped>\n",
       "    .dataframe tbody tr th:only-of-type {\n",
       "        vertical-align: middle;\n",
       "    }\n",
       "\n",
       "    .dataframe tbody tr th {\n",
       "        vertical-align: top;\n",
       "    }\n",
       "\n",
       "    .dataframe thead th {\n",
       "        text-align: right;\n",
       "    }\n",
       "</style>\n",
       "<table border=\"1\" class=\"dataframe\">\n",
       "  <thead>\n",
       "    <tr style=\"text-align: right;\">\n",
       "      <th></th>\n",
       "      <th>R_and_D_Spend</th>\n",
       "      <th>Administration</th>\n",
       "      <th>Marketing_Spend</th>\n",
       "      <th>Profit</th>\n",
       "      <th>State_California</th>\n",
       "      <th>State_Florida</th>\n",
       "      <th>State_New York</th>\n",
       "    </tr>\n",
       "  </thead>\n",
       "  <tbody>\n",
       "    <tr>\n",
       "      <th>0</th>\n",
       "      <td>165349.20</td>\n",
       "      <td>136897.80</td>\n",
       "      <td>471784.10</td>\n",
       "      <td>192261.83</td>\n",
       "      <td>0</td>\n",
       "      <td>0</td>\n",
       "      <td>1</td>\n",
       "    </tr>\n",
       "    <tr>\n",
       "      <th>1</th>\n",
       "      <td>162597.70</td>\n",
       "      <td>151377.59</td>\n",
       "      <td>443898.53</td>\n",
       "      <td>191792.06</td>\n",
       "      <td>1</td>\n",
       "      <td>0</td>\n",
       "      <td>0</td>\n",
       "    </tr>\n",
       "    <tr>\n",
       "      <th>2</th>\n",
       "      <td>153441.51</td>\n",
       "      <td>101145.55</td>\n",
       "      <td>407934.54</td>\n",
       "      <td>191050.39</td>\n",
       "      <td>0</td>\n",
       "      <td>1</td>\n",
       "      <td>0</td>\n",
       "    </tr>\n",
       "    <tr>\n",
       "      <th>3</th>\n",
       "      <td>144372.41</td>\n",
       "      <td>118671.85</td>\n",
       "      <td>383199.62</td>\n",
       "      <td>182901.99</td>\n",
       "      <td>0</td>\n",
       "      <td>0</td>\n",
       "      <td>1</td>\n",
       "    </tr>\n",
       "    <tr>\n",
       "      <th>4</th>\n",
       "      <td>142107.34</td>\n",
       "      <td>91391.77</td>\n",
       "      <td>366168.42</td>\n",
       "      <td>166187.94</td>\n",
       "      <td>0</td>\n",
       "      <td>1</td>\n",
       "      <td>0</td>\n",
       "    </tr>\n",
       "  </tbody>\n",
       "</table>\n",
       "</div>"
      ],
      "text/plain": [
       "   R_and_D_Spend  Administration  Marketing_Spend     Profit  \\\n",
       "0      165349.20       136897.80        471784.10  192261.83   \n",
       "1      162597.70       151377.59        443898.53  191792.06   \n",
       "2      153441.51       101145.55        407934.54  191050.39   \n",
       "3      144372.41       118671.85        383199.62  182901.99   \n",
       "4      142107.34        91391.77        366168.42  166187.94   \n",
       "\n",
       "   State_California  State_Florida  State_New York  \n",
       "0                 0              0               1  \n",
       "1                 1              0               0  \n",
       "2                 0              1               0  \n",
       "3                 0              0               1  \n",
       "4                 0              1               0  "
      ]
     },
     "execution_count": 15,
     "metadata": {},
     "output_type": "execute_result"
    }
   ],
   "source": [
    "# Handel the categorical data State coulumn\n",
    "# Handel State coulomn by converting it to dummies\n",
    "\n",
    "dataUpdated = pd.get_dummies(data, columns=['State'],prefix = None)\n",
    "dataUpdated.head()"
   ]
  },
  {
   "cell_type": "markdown",
   "metadata": {},
   "source": [
    "### Step 7 : Check and Handle Ordinal Data - There is no ordinal Data\n",
    "### Step 8 : Check and Handle Pure String data - not present"
   ]
  },
  {
   "cell_type": "markdown",
   "metadata": {},
   "source": [
    "### Step 9 : Split the data into features and label"
   ]
  },
  {
   "cell_type": "code",
   "execution_count": 31,
   "metadata": {},
   "outputs": [
    {
     "data": {
      "text/plain": [
       "(50, 6)"
      ]
     },
     "execution_count": 31,
     "metadata": {},
     "output_type": "execute_result"
    }
   ],
   "source": [
    "# Creating X featutes and check the shape\n",
    "X = dataUpdated.drop('Profit', axis = 1).values\n",
    "X.shape"
   ]
  },
  {
   "cell_type": "code",
   "execution_count": 32,
   "metadata": {},
   "outputs": [
    {
     "data": {
      "text/plain": [
       "(50,)"
      ]
     },
     "execution_count": 32,
     "metadata": {},
     "output_type": "execute_result"
    }
   ],
   "source": [
    "#Creating Y label and Checking the shape\n",
    "y = dataUpdated.Profit.values\n",
    "y.shape # y is one d so we have to convert it to 2d"
   ]
  },
  {
   "cell_type": "code",
   "execution_count": 18,
   "metadata": {},
   "outputs": [],
   "source": [
    "# convert y to 2d\n",
    "y = y.reshape(-1,1)"
   ]
  },
  {
   "cell_type": "markdown",
   "metadata": {},
   "source": [
    "### Splitting the featues into Train and Test datasets :"
   ]
  },
  {
   "cell_type": "code",
   "execution_count": 19,
   "metadata": {},
   "outputs": [],
   "source": [
    "## Splitting the data into train and test datasets at 80:20 ratio with random state of 51 :\n",
    "\n",
    "   \n",
    "from sklearn.model_selection import train_test_split\n",
    "\n",
    "X_train,X_test,y_train,y_test = train_test_split(X,\n",
    "                                                 y,\n",
    "                                                 test_size=0.2,\n",
    "                                                 random_state = 51)\n",
    "     "
   ]
  },
  {
   "cell_type": "code",
   "execution_count": 20,
   "metadata": {},
   "outputs": [
    {
     "name": "stdout",
     "output_type": "stream",
     "text": [
      "Random State: 1 , Test Score: 0.9649618042060305, Train Score: 0.9424465426893971\n",
      "Random State: 2 , Test Score: 0.9783259006629259, Train Score: 0.9398417195515446\n",
      "Random State: 4 , Test Score: 0.9560357304860205, Train Score: 0.9473848999820091\n",
      "Random State: 5 , Test Score: 0.9669763022156828, Train Score: 0.9438505226429931\n",
      "Random State: 10 , Test Score: 0.9901105113396006, Train Score: 0.9385918220043519\n",
      "Random State: 14 , Test Score: 0.9726607102793996, Train Score: 0.9411603359254432\n",
      "Random State: 21 , Test Score: 0.9633877651304174, Train Score: 0.946138584319559\n",
      "Random State: 22 , Test Score: 0.9757906394981232, Train Score: 0.9425908513252554\n",
      "Random State: 24 , Test Score: 0.9687727807395062, Train Score: 0.9464972114069966\n",
      "Random State: 26 , Test Score: 0.9602561948868193, Train Score: 0.9454518446256155\n",
      "Random State: 29 , Test Score: 0.9500997612789298, Train Score: 0.9482961316721963\n",
      "Random State: 31 , Test Score: 0.9539450076684193, Train Score: 0.9435367947390881\n",
      "Random State: 34 , Test Score: 0.9649795500577346, Train Score: 0.9343066184022641\n",
      "Random State: 38 , Test Score: 0.9571971950122286, Train Score: 0.9477948990925947\n",
      "Random State: 39 , Test Score: 0.9683573757861605, Train Score: 0.9390982119875836\n",
      "Random State: 44 , Test Score: 0.9524736560660513, Train Score: 0.9477952506064851\n",
      "Random State: 45 , Test Score: 0.9836441333156355, Train Score: 0.9335592411497008\n",
      "Random State: 51 , Test Score: 0.9643319691954851, Train Score: 0.9395097495656614\n",
      "Random State: 52 , Test Score: 0.9648390421996732, Train Score: 0.9465459988678804\n",
      "Random State: 53 , Test Score: 0.9793762749489995, Train Score: 0.9393957950101601\n",
      "Random State: 55 , Test Score: 0.9571974961783343, Train Score: 0.9403138379437052\n",
      "Random State: 58 , Test Score: 0.959588433967373, Train Score: 0.9454556887607686\n",
      "Random State: 59 , Test Score: 0.9628526821756629, Train Score: 0.9409308914805107\n",
      "Random State: 61 , Test Score: 0.9545524199648875, Train Score: 0.9463540724977703\n",
      "Random State: 68 , Test Score: 0.956323006083197, Train Score: 0.9456164310748647\n",
      "Random State: 69 , Test Score: 0.9794089137859818, Train Score: 0.939327832776068\n",
      "Random State: 75 , Test Score: 0.9554722915075122, Train Score: 0.9475966252725724\n",
      "Random State: 79 , Test Score: 0.9617296028913718, Train Score: 0.9424655474433042\n",
      "Random State: 83 , Test Score: 0.9597300639669071, Train Score: 0.9483444611271501\n",
      "Random State: 85 , Test Score: 0.9781410971755214, Train Score: 0.9394896479232201\n",
      "Random State: 87 , Test Score: 0.9549297377566943, Train Score: 0.944273551463056\n",
      "Random State: 91 , Test Score: 0.9592640710209404, Train Score: 0.9468234336680412\n",
      "Random State: 92 , Test Score: 0.957263225737006, Train Score: 0.9454530304946809\n",
      "Random State: 97 , Test Score: 0.9666175526888519, Train Score: 0.9361157783292919\n"
     ]
    }
   ],
   "source": [
    "#For Loop Trick for best random state\n",
    "from sklearn.model_selection import train_test_split\n",
    "from sklearn.linear_model import LinearRegression\n",
    "for i in range(1,100):\n",
    "    X_train,X_test,y_train,y_test = train_test_split(X,\n",
    "                                                 y,\n",
    "                                                 test_size=0.2,\n",
    "                                                 random_state = i)\n",
    "    \n",
    "    Model = LinearRegression()\n",
    "    Model.fit(X_train,y_train)\n",
    "    \n",
    "    train_score= Model.score(X_train,y_train)\n",
    "    test_score= Model.score(X_test,y_test)\n",
    "    \n",
    "    if test_score > train_score:\n",
    "        print(\"Random State: {} , Test Score: {}, Train Score: {}\".format(i,test_score,train_score))"
   ]
  },
  {
   "cell_type": "markdown",
   "metadata": {},
   "source": [
    "### Step 10 : Feature Scaling "
   ]
  },
  {
   "cell_type": "code",
   "execution_count": 21,
   "metadata": {},
   "outputs": [
    {
     "data": {
      "text/plain": [
       "array([[ 0.02991304,  0.07704849,  0.38971359,  1.52752523, -0.69388867,\n",
       "        -0.77459667],\n",
       "       [-0.27117815,  0.3642743 , -1.33618563,  1.52752523, -0.69388867,\n",
       "        -0.77459667],\n",
       "       [ 0.31811943,  0.60075552,  0.29734495,  1.52752523, -0.69388867,\n",
       "        -0.77459667],\n",
       "       [ 0.49706338, -1.04618099,  0.27425202,  1.52752523, -0.69388867,\n",
       "        -0.77459667],\n",
       "       [-0.21669527,  2.37755046, -0.76634724, -0.65465367,  1.44115338,\n",
       "        -0.77459667],\n",
       "       [-0.05293613,  0.12171096,  0.6978945 , -0.65465367,  1.44115338,\n",
       "        -0.77459667],\n",
       "       [-1.16139149, -2.02002331, -0.23561978, -0.65465367, -0.69388867,\n",
       "         1.29099445],\n",
       "       [-0.98750687,  0.28274984, -0.11019309, -0.65465367,  1.44115338,\n",
       "        -0.77459667],\n",
       "       [ 0.03767234,  1.28954789,  0.66957004, -0.65465367, -0.69388867,\n",
       "         1.29099445],\n",
       "       [-1.12122709,  1.328464  , -1.47654809,  1.52752523, -0.69388867,\n",
       "        -0.77459667]])"
      ]
     },
     "execution_count": 21,
     "metadata": {},
     "output_type": "execute_result"
    }
   ],
   "source": [
    "#Standardize the data using Standard Scaler\n",
    "from sklearn.preprocessing import StandardScaler\n",
    "\n",
    "standardScaler =StandardScaler()\n",
    "\n",
    "standardScaler.fit_transform(X_train) \n",
    "standardScaler.transform(X_test) "
   ]
  },
  {
   "cell_type": "markdown",
   "metadata": {},
   "source": [
    "## Multivariate Regression - Linear Regression  with all independent Variables :"
   ]
  },
  {
   "cell_type": "code",
   "execution_count": 33,
   "metadata": {},
   "outputs": [
    {
     "data": {
      "text/plain": [
       "LinearRegression(copy_X=True, fit_intercept=True, n_jobs=None, normalize=False)"
      ]
     },
     "execution_count": 33,
     "metadata": {},
     "output_type": "execute_result"
    }
   ],
   "source": [
    "# Create Statistical Model by using all independent variable\n",
    "#Build Model\n",
    "from sklearn.linear_model import LinearRegression\n",
    "lrmodel = LinearRegression()\n",
    "lrmodel.fit(X_train,y_train)"
   ]
  },
  {
   "cell_type": "code",
   "execution_count": 34,
   "metadata": {},
   "outputs": [
    {
     "name": "stdout",
     "output_type": "stream",
     "text": [
      "0.9570032465887534\n",
      "0.8397687560209903\n"
     ]
    }
   ],
   "source": [
    "#Check the Quality of the Model using Accuracy Score\n",
    "print(lrmodel.score(X_train,y_train))\n",
    "print(lrmodel.score(X_test,y_test))"
   ]
  },
  {
   "cell_type": "code",
   "execution_count": 36,
   "metadata": {},
   "outputs": [
    {
     "data": {
      "text/plain": [
       "array([46694.326377])"
      ]
     },
     "execution_count": 36,
     "metadata": {},
     "output_type": "execute_result"
    }
   ],
   "source": [
    "## Getting the y intercept :\n",
    "\n",
    "intercept = lrmodel.intercept_\n",
    "intercept"
   ]
  },
  {
   "cell_type": "code",
   "execution_count": 38,
   "metadata": {},
   "outputs": [],
   "source": [
    "#3 Getting the coefficients for the independent variables\n",
    "\n",
    "coefs = lrmodel.coef_"
   ]
  },
  {
   "cell_type": "code",
   "execution_count": 39,
   "metadata": {},
   "outputs": [
    {
     "data": {
      "text/plain": [
       "array([[ 8.20134955e-01, -9.12273850e-03,  2.30086199e-02,\n",
       "        -8.76430272e+02,  4.00848671e+02,  4.75581601e+02]])"
      ]
     },
     "execution_count": 39,
     "metadata": {},
     "output_type": "execute_result"
    }
   ],
   "source": [
    "coefs"
   ]
  },
  {
   "cell_type": "code",
   "execution_count": 24,
   "metadata": {},
   "outputs": [
    {
     "data": {
      "text/plain": [
       "array([[114772.10993348],\n",
       "       [ 97703.23993585],\n",
       "       [125841.45598559],\n",
       "       [133291.38518326],\n",
       "       [102318.53477474],\n",
       "       [113639.54282932],\n",
       "       [ 67421.97041228],\n",
       "       [ 74071.87654348],\n",
       "       [116953.55901828],\n",
       "       [ 63246.32277062]])"
      ]
     },
     "execution_count": 24,
     "metadata": {},
     "output_type": "execute_result"
    }
   ],
   "source": [
    "## Predicting the Profit value on the test data\n",
    "\n",
    "lr_pred = lrmodel.predict(X_test)\n",
    "lr_pred"
   ]
  },
  {
   "cell_type": "code",
   "execution_count": 25,
   "metadata": {},
   "outputs": [
    {
     "name": "stdout",
     "output_type": "stream",
     "text": [
      "RMSE for Linear Regression is 9252.91718025374\n"
     ]
    }
   ],
   "source": [
    "from sklearn import metrics\n",
    "\n",
    "# Compute Root Mean Squared Error (RMSE) from Linear Regression\n",
    "\n",
    "RMSE1 = np.sqrt(metrics.mean_squared_error(y_test,lr_pred))\n",
    "\n",
    "print('RMSE for Linear Regression is {}'.format(RMSE1))\n",
    "\n",
    "\n",
    "## RMSE for Linear Regression is 8662.027516443119"
   ]
  },
  {
   "cell_type": "code",
   "execution_count": 26,
   "metadata": {},
   "outputs": [
    {
     "name": "stdout",
     "output_type": "stream",
     "text": [
      "ThE RMSE is 8.26 % of the mean Profit Value\n"
     ]
    }
   ],
   "source": [
    "## Internal check for accuracy :\n",
    "\n",
    "mean_profit = dataUpdated.Profit.mean()\n",
    "\n",
    "error = round((RMSE1/mean_profit)*100,2 )\n",
    "\n",
    "print ('ThE RMSE is {} % of the mean Profit Value'.format(error))\n",
    "\n",
    "# ThE RMSE is 7.6 % of the mean Profit Value"
   ]
  },
  {
   "cell_type": "markdown",
   "metadata": {},
   "source": [
    "# Multvariate Regression with Marketing Spend and R & D Spend "
   ]
  },
  {
   "cell_type": "code",
   "execution_count": 27,
   "metadata": {},
   "outputs": [],
   "source": [
    "# As at co relation metrix we found that marketing and R&D spend has Strong Corelation \n",
    "\n",
    "X_train_New1 = X_train[:,[0,2]]\n",
    "X_test_New1 = X_test[:,[0,2]]"
   ]
  },
  {
   "cell_type": "code",
   "execution_count": 28,
   "metadata": {},
   "outputs": [
    {
     "data": {
      "text/plain": [
       "(40, 2)"
      ]
     },
     "execution_count": 28,
     "metadata": {},
     "output_type": "execute_result"
    }
   ],
   "source": [
    "X_train_New1.shape  ## Checking the shape "
   ]
  },
  {
   "cell_type": "code",
   "execution_count": 29,
   "metadata": {},
   "outputs": [
    {
     "data": {
      "text/plain": [
       "LinearRegression(copy_X=True, fit_intercept=True, n_jobs=None, normalize=False)"
      ]
     },
     "execution_count": 29,
     "metadata": {},
     "output_type": "execute_result"
    }
   ],
   "source": [
    "# Training the model:\n",
    "\n",
    "lrmodel2 = LinearRegression()\n",
    "lrmodel2.fit(X_train_New1,y_train)"
   ]
  },
  {
   "cell_type": "code",
   "execution_count": 40,
   "metadata": {},
   "outputs": [
    {
     "name": "stdout",
     "output_type": "stream",
     "text": [
      " Test Score: 0.8441492668168257, Train Score: 0.9567820503635849\n"
     ]
    }
   ],
   "source": [
    "#  Quick initial test :\n",
    "\n",
    "train_score2 = lrmodel2.score(X_train_New1,y_train)\n",
    "test_score2 = lrmodel2.score(X_test_New1,y_test)\n",
    "    \n",
    "print(\" Test Score: {}, Train Score: {}\".format(test_score2,train_score2))\n"
   ]
  },
  {
   "cell_type": "code",
   "execution_count": 41,
   "metadata": {},
   "outputs": [
    {
     "data": {
      "text/plain": [
       "array([[115743.98144022],\n",
       "       [ 98609.46371565],\n",
       "       [126928.28534016],\n",
       "       [133974.94120912],\n",
       "       [102480.18117198],\n",
       "       [113371.14691428],\n",
       "       [ 66501.49915992],\n",
       "       [ 73791.14415524],\n",
       "       [116889.49011591],\n",
       "       [ 64387.42571235]])"
      ]
     },
     "execution_count": 41,
     "metadata": {},
     "output_type": "execute_result"
    }
   ],
   "source": [
    "## Predicting values of y - Profit on the test data:\n",
    "\n",
    "lr_pred_Updated = lrmodel2.predict(X_test_New1)\n",
    "lr_pred_Updated"
   ]
  },
  {
   "cell_type": "code",
   "execution_count": 42,
   "metadata": {},
   "outputs": [
    {
     "name": "stdout",
     "output_type": "stream",
     "text": [
      "RMSE for Linear Regression with 2 features is 9125.559426504336\n"
     ]
    }
   ],
   "source": [
    "# Calculate and Print root mean squared error (RMSE) from Linear Regression\n",
    "\n",
    "RMSE2 = np.sqrt(metrics.mean_squared_error(y_test,lr_pred_Updated))\n",
    "\n",
    "print('RMSE for Linear Regression with 2 features is {}'.format(RMSE2))\n",
    "\n",
    "## RMSE for Linear Regression with 2 features is 9125.559426504336 -- "
   ]
  },
  {
   "cell_type": "markdown",
   "metadata": {},
   "source": [
    "## Linear Regression with one variable - R&D Spend "
   ]
  },
  {
   "cell_type": "code",
   "execution_count": 43,
   "metadata": {},
   "outputs": [
    {
     "name": "stdout",
     "output_type": "stream",
     "text": [
      " Test Score: 0.8441492668168257, Train Score: 0.9567820503635849\n"
     ]
    }
   ],
   "source": [
    "## Extracting the column and reshaping into 2 D array:\n",
    "\n",
    "X_train3 = X_train[:,0].reshape(-1,1)\n",
    "X_test3 = X_test[:,0].reshape(-1,1)\n",
    "\n",
    "# Training the model :\n",
    "    \n",
    "lrModel3 = LinearRegression()\n",
    "lrModel3.fit(X_train3,y_train)\n",
    "\n",
    "# testing the model:\n",
    "\n",
    "train_score3 = lrModel3.score(X_train3,y_train)\n",
    "test_score3 = lrModel3.score(X_test3,y_test)\n",
    "    \n",
    "print(\" Test Score: {}, Train Score: {}\".format(test_score2,train_score2))\n",
    "\n"
   ]
  },
  {
   "cell_type": "code",
   "execution_count": 44,
   "metadata": {},
   "outputs": [
    {
     "data": {
      "text/plain": [
       "array([[114645.06130597],\n",
       "       [102001.91675014],\n",
       "       [126747.15883419],\n",
       "       [134261.20838774],\n",
       "       [104289.7119051 ],\n",
       "       [111166.13506499],\n",
       "       [ 64620.89736021],\n",
       "       [ 71922.50001139],\n",
       "       [114970.88248029],\n",
       "       [ 66307.44354139]])"
      ]
     },
     "execution_count": 44,
     "metadata": {},
     "output_type": "execute_result"
    }
   ],
   "source": [
    "## Predicting the y values :\n",
    "\n",
    "lr_pred3 = lrModel3.predict(X_test3)\n",
    "lr_pred3\n"
   ]
  },
  {
   "cell_type": "code",
   "execution_count": 45,
   "metadata": {},
   "outputs": [
    {
     "name": "stdout",
     "output_type": "stream",
     "text": [
      "RMSE for Linear Regression is 9876.883945771324\n"
     ]
    }
   ],
   "source": [
    "# Calculate and Print root mean squared error (RMSE)\n",
    "\n",
    "RMSE3 = np.sqrt(metrics.mean_squared_error(y_test,lr_pred3))\n",
    "\n",
    "print('RMSE for Linear Regression is {}'.format(RMSE3))\n",
    "#RMSE for Linear Regression is 9876.883945771324"
   ]
  },
  {
   "cell_type": "markdown",
   "metadata": {},
   "source": [
    "### Linear Regression with one variable - Marketing  Spend"
   ]
  },
  {
   "cell_type": "code",
   "execution_count": 46,
   "metadata": {},
   "outputs": [
    {
     "name": "stdout",
     "output_type": "stream",
     "text": [
      " Test Score: 0.2908478973223332, Train Score: 0.574969087582023\n"
     ]
    }
   ],
   "source": [
    "## Extracting the column and reshaping into 2 D array:\n",
    "\n",
    "X_train4 = X_train[:,2].reshape(-1,1)\n",
    "X_test4 = X_test[:,2].reshape(-1,1)\n",
    "# Training the model :\n",
    "\n",
    "lrModel4 = LinearRegression()\n",
    "lrModel4.fit(X_train4,y_train)\n",
    "\n",
    "# testing the model:\n",
    "train_score4 = lrModel4.score(X_train4,y_train)\n",
    "test_score4 = lrModel4.score(X_test4,y_test)\n",
    "    \n",
    "print(\" Test Score: {}, Train Score: {}\".format(test_score4,train_score4))\n",
    "\n",
    "# Test Score: 0.2908478973223332, Train Score: 0.574969087582023"
   ]
  },
  {
   "cell_type": "code",
   "execution_count": 47,
   "metadata": {},
   "outputs": [
    {
     "data": {
      "text/html": [
       "<div>\n",
       "<style scoped>\n",
       "    .dataframe tbody tr th:only-of-type {\n",
       "        vertical-align: middle;\n",
       "    }\n",
       "\n",
       "    .dataframe tbody tr th {\n",
       "        vertical-align: top;\n",
       "    }\n",
       "\n",
       "    .dataframe thead th {\n",
       "        text-align: right;\n",
       "    }\n",
       "</style>\n",
       "<table border=\"1\" class=\"dataframe\">\n",
       "  <thead>\n",
       "    <tr style=\"text-align: right;\">\n",
       "      <th></th>\n",
       "      <th>RMSE</th>\n",
       "      <th>Type of Regression</th>\n",
       "    </tr>\n",
       "  </thead>\n",
       "  <tbody>\n",
       "    <tr>\n",
       "      <th>0</th>\n",
       "      <td>9252.917180</td>\n",
       "      <td>Multivariate Reg - all vars</td>\n",
       "    </tr>\n",
       "    <tr>\n",
       "      <th>1</th>\n",
       "      <td>9125.559427</td>\n",
       "      <td>Multivariate  Reg - 2 vars</td>\n",
       "    </tr>\n",
       "    <tr>\n",
       "      <th>2</th>\n",
       "      <td>9876.883946</td>\n",
       "      <td>Lin reg - Single Var -R&amp;D</td>\n",
       "    </tr>\n",
       "  </tbody>\n",
       "</table>\n",
       "</div>"
      ],
      "text/plain": [
       "         RMSE            Type of Regression\n",
       "0  9252.917180  Multivariate Reg - all vars\n",
       "1  9125.559427   Multivariate  Reg - 2 vars\n",
       "2  9876.883946    Lin reg - Single Var -R&D"
      ]
     },
     "execution_count": 47,
     "metadata": {},
     "output_type": "execute_result"
    }
   ],
   "source": [
    "# Creating a dataframe of all the RMSE values calculated\n",
    "\n",
    "\n",
    "data_RMSE = [[ RMSE1,'Multivariate Reg - all vars'], [RMSE2 ,'Multivariate  Reg - 2 vars'], [RMSE3,'Lin reg - Single Var -R&D']] \n",
    "\n",
    "dataFrame_RMSE = pd.DataFrame(data_RMSE, columns = [ ' RMSE ', 'Type of Regression',]) \n",
    "dataFrame_RMSE\n",
    "\n",
    "\n",
    "\n"
   ]
  },
  {
   "cell_type": "markdown",
   "metadata": {},
   "source": [
    "# Model Deployment"
   ]
  },
  {
   "cell_type": "code",
   "execution_count": 48,
   "metadata": {},
   "outputs": [],
   "source": [
    "#Deploy The Model for 2 features :\n",
    "\n",
    "# 1. Pre-deployment Test\n",
    "# 2. Deployment of model in a persistant file"
   ]
  },
  {
   "cell_type": "code",
   "execution_count": 50,
   "metadata": {},
   "outputs": [
    {
     "name": "stdout",
     "output_type": "stream",
     "text": [
      "Enter R & D Spend Amount as a float variable : 50000\n",
      "Enter Marketing Spend Amount as a float variable: 2000\n",
      "The Profit for 50000.0 - R & D Spending and  2000.0 - Marketing Spending is  : [[86573.99642875]]\n"
     ]
    }
   ],
   "source": [
    "# 1. Pre-deployment Test\n",
    "\n",
    "inputRandDSpend = float(input(\"Enter R & D Spend Amount as a float variable : \"))\n",
    "inputMarketingSpend  =  float(input(\"Enter Marketing Spend Amount as a float variable: \"))\n",
    "\n",
    "predictedProfit = lrmodel2.predict(np.array([[inputRandDSpend,inputMarketingSpend]]))\n",
    "print(\"The Profit for {} - R & D Spending and  {} - Marketing Spending is  : {}\".format(inputRandDSpend,inputMarketingSpend,predictedProfit))"
   ]
  },
  {
   "cell_type": "code",
   "execution_count": null,
   "metadata": {},
   "outputs": [],
   "source": [
    "pickle.dump(lrModel2 , open('ProfitPredictor.ibn','wb')) \n",
    "#Get the memory object and store it in a persistent file"
   ]
  }
 ],
 "metadata": {
  "kernelspec": {
   "display_name": "Python 3",
   "language": "python",
   "name": "python3"
  },
  "language_info": {
   "codemirror_mode": {
    "name": "ipython",
    "version": 3
   },
   "file_extension": ".py",
   "mimetype": "text/x-python",
   "name": "python",
   "nbconvert_exporter": "python",
   "pygments_lexer": "ipython3",
   "version": "3.7.7"
  }
 },
 "nbformat": 4,
 "nbformat_minor": 2
}
